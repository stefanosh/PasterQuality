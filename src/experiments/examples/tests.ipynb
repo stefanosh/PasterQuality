{
 "cells": [
  {
   "cell_type": "code",
   "execution_count": 3,
   "metadata": {},
   "outputs": [],
   "source": [
    "import pandas as pd\n",
    "import numpy as np"
   ]
  },
  {
   "cell_type": "code",
   "execution_count": 14,
   "metadata": {},
   "outputs": [
    {
     "name": "stdout",
     "output_type": "stream",
     "text": [
      "GPU 0:\n",
      "    RAM Total: 10.00 GB\n",
      "    RAM Used: 1.35 GB\n",
      "    RAM Free: 8.42 GB\n",
      "    RAM Percent: 13.51%\n",
      "    Load: 22.00%\n",
      "GPU 1:\n",
      "    RAM Total: 10.00 GB\n",
      "    RAM Used: 0.34 GB\n",
      "    RAM Free: 9.43 GB\n",
      "    RAM Percent: 3.42%\n",
      "    Load: 0.00%\n",
      "\n",
      "CPU usage: [7.6, 9.9, 8.7, 6.9, 7.4, 6.3, 8.2, 5.9, 9.7, 5.1, 5.0, 6.6, 4.6, 4.5, 4.2, 51.8]\n",
      "Number of CPU cores: 16\n",
      "RAM usage: 46.37 GB available out of 62.79 GB (26.20%)\n",
      "Disk usage: used 337.3G, available 126.8G\n",
      "\n",
      "Using device: cuda\n",
      "NVIDIA GeForce RTX 3080\n",
      "NVIDIA GeForce RTX 3080\n",
      "Memory Usage:\n",
      "Allocated: 0.0 GB\n",
      "Cached:    0.0 GB\n",
      "Allocated: 0.0 GB\n",
      "Cached:    0.0 GB\n",
      "Selecting GPU_1 as the device\n",
      "Current CUDA device ID: 0\n",
      "Selected device: gpu_0\n",
      "debugging\n",
      "\n",
      "2\n",
      "NVIDIA GeForce RTX 3080 0\n",
      "NVIDIA GeForce RTX 3080 1\n",
      "0\n",
      "\n",
      "Home directory size:\n",
      "103G\t/home/stefanos\n",
      "\n"
     ]
    }
   ],
   "source": [
    "\"\"\"\n",
    "Script for checking the available resourses on the machine.\n",
    "\"\"\"\n",
    "\n",
    "import psutil\n",
    "import GPUtil\n",
    "import torch\n",
    "import subprocess\n",
    "import os\n",
    "\n",
    "\n",
    "# Get CPU usage\n",
    "cpu_percent = psutil.cpu_percent(percpu=True)\n",
    "cpu_count = psutil.cpu_count(logical=True)\n",
    "\n",
    "# Get RAM usage\n",
    "ram_usage = psutil.virtual_memory()\n",
    "ram_total = ram_usage.total / (1024 ** 3)  # Convert to GB\n",
    "ram_available = ram_usage.available / (1024 ** 3)  # Convert to GB\n",
    "ram_percent = ram_usage.percent\n",
    "\n",
    "# Get GPU usage (if available)\n",
    "gpus = GPUtil.getGPUs()\n",
    "if gpus:\n",
    "    for i, gpu in enumerate(gpus):\n",
    "        gpu_ram_total = gpu.memoryTotal / 1024  # Convert to GB\n",
    "        gpu_ram_used = gpu.memoryUsed / 1024  # Convert to GB\n",
    "        gpu_ram_free = gpu.memoryFree / 1024  # Convert to GB\n",
    "        gpu_ram_percent = gpu.memoryUsed / gpu.memoryTotal * 100\n",
    "        print(f\"GPU {i}:\\n    RAM Total: {gpu_ram_total:.2f} GB\\n    RAM Used: {gpu_ram_used:.2f} GB\\n    RAM Free: {gpu_ram_free:.2f} GB\\n    RAM Percent: {gpu_ram_percent:.2f}%\\n    Load: {gpu.load * 100:.2f}%\")\n",
    "else:\n",
    "    print(\"No GPUs found.\")\n",
    "\n",
    "# Print results for CPU and RAM usage\n",
    "print(f\"\\nCPU usage: {cpu_percent}\")\n",
    "print(f\"Number of CPU cores: {cpu_count}\")\n",
    "print(f\"RAM usage: {ram_available:.2f} GB available out of {ram_total:.2f} GB ({ram_percent:.2f}%)\")\n",
    "\n",
    "# Get the disk usage information\n",
    "usage_info = psutil.disk_usage('/')\n",
    "\n",
    "# Print the used and available space\n",
    "print(f\"Disk usage: used {psutil._common.bytes2human(usage_info.used)}, available {psutil._common.bytes2human(usage_info.free)}\")\n",
    "\n",
    "device = torch.device('cuda' if torch.cuda.is_available() else 'cpu')\n",
    "print('\\nUsing device:', device)\n",
    "\n",
    "if device.type == 'cuda':\n",
    "    print(torch.cuda.get_device_name(0))\n",
    "    if torch.cuda.device_count() > 1:\n",
    "        print(torch.cuda.get_device_name(1))\n",
    "        print('Memory Usage:')\n",
    "        print('Allocated:', round(torch.cuda.memory_allocated(0) / 1024 ** 3, 1), 'GB')\n",
    "        print('Cached:   ', round(torch.cuda.memory_reserved(0) / 1024 ** 3, 1), 'GB')\n",
    "        print('Allocated:', round(torch.cuda.memory_allocated(1) / 1024 ** 3, 1), 'GB')\n",
    "        print('Cached:   ', round(torch.cuda.memory_reserved(1) / 1024 ** 3, 1), 'GB')\n",
    "    else:\n",
    "        print('Only one CUDA device is available.')\n",
    "\n",
    "\n",
    "\n",
    "# Check if CUDA is available\n",
    "if torch.cuda.is_available():\n",
    "\n",
    "    os.environ[\"CUDA_DEVICE_ORDER\"] = \"PCI_BUS_ID\"\n",
    "    os.environ[\"CUDA_VISIBLE_DEVICES\"] = \"1\"\n",
    "    \n",
    "    # Get the device ID of the current CUDA device\n",
    "    print(\"Selecting GPU_1 as the device\")\n",
    "    device = torch.device(\"cuda:1\")\n",
    "\n",
    "    device_id = torch.cuda.current_device()\n",
    "\n",
    "    # Print the device ID\n",
    "    print(\"Current CUDA device ID:\", device_id)\n",
    "\n",
    "    # Check if the selected device is gpu_1\n",
    "    if device_id == 1:\n",
    "        print(\"Selected device: gpu_1\")\n",
    "    else:\n",
    "        print(\"Selected device: gpu_0\")\n",
    "else:\n",
    "    print(\"CUDA is not available\")\n",
    "\n",
    "print(\"debugging\\n\")\n",
    "print(torch.cuda.device_count())\n",
    "for i in range(torch.cuda.device_count()):\n",
    "    print(torch.cuda.get_device_name(i), i)\n",
    "\n",
    "print(device_id)\n",
    "\n",
    "\n",
    "# Check the size of the current user home directory\n",
    "command = \"du -sh /home/stefanos\"\n",
    "output = subprocess.check_output(command, shell=True, encoding=\"utf-8\")\n",
    "print(\"\\nHome directory size:\")\n",
    "print(output)"
   ]
  },
  {
   "cell_type": "code",
   "execution_count": 22,
   "metadata": {},
   "outputs": [
    {
     "ename": "TypeError",
     "evalue": "__init__() missing 6 required keyword-only arguments: 'd_in', 'd_layers', 'dropout', 'd_out', 'categories', and 'd_embedding'",
     "output_type": "error",
     "traceback": [
      "\u001b[0;31m---------------------------------------------------------------------------\u001b[0m",
      "\u001b[0;31mTypeError\u001b[0m                                 Traceback (most recent call last)",
      "Cell \u001b[0;32mIn[22], line 20\u001b[0m\n\u001b[1;32m     17\u001b[0m checkpoint \u001b[39m=\u001b[39m torch\u001b[39m.\u001b[39mload(\u001b[39m'\u001b[39m\u001b[39m/home/stefanos/PasterQuality/src/experiments/revisiting_models/output_pasterquality/tabular_split_3/mlp/tuned/0/checkpoint.pt\u001b[39m\u001b[39m'\u001b[39m)\n\u001b[1;32m     19\u001b[0m \u001b[39m# Create your model instance using the architecture and configuration used during training\u001b[39;00m\n\u001b[0;32m---> 20\u001b[0m model \u001b[39m=\u001b[39m MLP()\u001b[39m.\u001b[39mto(device)\n\u001b[1;32m     22\u001b[0m \u001b[39m# Load the model's state dictionary from the checkpoint\u001b[39;00m\n\u001b[1;32m     23\u001b[0m model\u001b[39m.\u001b[39mload_state_dict(checkpoint[\u001b[39m'\u001b[39m\u001b[39mmodel_state_dict\u001b[39m\u001b[39m'\u001b[39m])\n",
      "\u001b[0;31mTypeError\u001b[0m: __init__() missing 6 required keyword-only arguments: 'd_in', 'd_layers', 'dropout', 'd_out', 'categories', and 'd_embedding'"
     ]
    }
   ],
   "source": [
    "import math\n",
    "import typing as ty\n",
    "from pathlib import Path\n",
    "\n",
    "import numpy as np\n",
    "import torch\n",
    "import torch.nn as nn\n",
    "import torch.nn.functional as F\n",
    "import zero\n",
    "\n",
    "import lib\n",
    "\n",
    "\n",
    "# ... (Rest of your code, including the MLP class definition) ...\n",
    "\n",
    "# Load the checkpoint\n",
    "checkpoint = torch.load('/home/stefanos/PasterQuality/src/experiments/revisiting_models/output_pasterquality/tabular_split_3/mlp/tuned/0/checkpoint.pt')\n",
    "\n",
    "# Create your model instance using the architecture and configuration used during training\n",
    "model = MLP().to(device)\n",
    "\n",
    "# Load the model's state dictionary from the checkpoint\n",
    "model.load_state_dict(checkpoint['model_state_dict'])\n",
    "\n",
    "# Set the model to evaluation mode\n",
    "model.eval()\n",
    "\n",
    "# New instance to predict (example input)\n",
    "new_instance = torch.tensor(torch.tensor(X_val.values), dtype=torch.float32)  # Adjust the input data\n",
    "\n",
    "# Make a prediction\n",
    "with torch.no_grad():\n",
    "    predictions = model(new_instance)\n",
    "\n",
    "# The 'predictions' tensor contains the model's output for the new instance\n",
    "print(predictions)"
   ]
  },
  {
   "cell_type": "code",
   "execution_count": 24,
   "metadata": {},
   "outputs": [
    {
     "ename": "KeyError",
     "evalue": "'model_state_dict'",
     "output_type": "error",
     "traceback": [
      "\u001b[0;31m---------------------------------------------------------------------------\u001b[0m",
      "\u001b[0;31mKeyError\u001b[0m                                  Traceback (most recent call last)",
      "Cell \u001b[0;32mIn[24], line 1\u001b[0m\n\u001b[0;32m----> 1\u001b[0m checkpoint[\u001b[39m'\u001b[39;49m\u001b[39mmodel_state_dict\u001b[39;49m\u001b[39m'\u001b[39;49m]\n",
      "\u001b[0;31mKeyError\u001b[0m: 'model_state_dict'"
     ]
    }
   ],
   "source": [
    "checkpoint['model_state_dict']"
   ]
  },
  {
   "cell_type": "code",
   "execution_count": 21,
   "metadata": {},
   "outputs": [],
   "source": [
    "class MLP(nn.Module):\n",
    "    def __init__(\n",
    "        self,\n",
    "        *,\n",
    "        d_in: int,\n",
    "        d_layers: ty.List[int],\n",
    "        dropout: float,\n",
    "        d_out: int,\n",
    "        categories: ty.Optional[ty.List[int]],\n",
    "        d_embedding: int,\n",
    "    ) -> None:\n",
    "        super().__init__()\n",
    "\n",
    "        if categories is not None:\n",
    "            d_in += len(categories) * d_embedding\n",
    "            category_offsets = torch.tensor([0] + categories[:-1]).cumsum(0)\n",
    "            self.register_buffer('category_offsets', category_offsets)\n",
    "            self.category_embeddings = nn.Embedding(sum(categories), d_embedding)\n",
    "            nn.init.kaiming_uniform_(self.category_embeddings.weight, a=math.sqrt(5))\n",
    "            print(f'{self.category_embeddings.weight.shape=}')\n",
    "\n",
    "        self.layers = nn.ModuleList(\n",
    "            [\n",
    "                nn.Linear(d_layers[i - 1] if i else d_in, x)\n",
    "                for i, x in enumerate(d_layers)\n",
    "            ]\n",
    "        )\n",
    "        self.dropout = dropout\n",
    "        self.head = nn.Linear(d_layers[-1] if d_layers else d_in, d_out)\n",
    "\n",
    "    def forward(self, x_num, x_cat):\n",
    "        x = []\n",
    "        if x_num is not None:\n",
    "            x.append(x_num)\n",
    "        if x_cat is not None:\n",
    "            x.append(\n",
    "                self.category_embeddings(x_cat + self.category_offsets[None]).view(\n",
    "                    x_cat.size(0), -1\n",
    "                )\n",
    "            )\n",
    "        x = torch.cat(x, dim=-1)\n",
    "\n",
    "        for layer in self.layers:\n",
    "            x = layer(x)\n",
    "            x = F.relu(x)\n",
    "            if self.dropout:\n",
    "                x = F.dropout(x, self.dropout, self.training)\n",
    "        x = self.head(x)\n",
    "        x = x.squeeze(-1)\n",
    "        return x"
   ]
  },
  {
   "cell_type": "code",
   "execution_count": 10,
   "metadata": {},
   "outputs": [
    {
     "data": {
      "text/plain": [
       "<catboost.core.CatBoost at 0x7f11f23f4c70>"
      ]
     },
     "execution_count": 10,
     "metadata": {},
     "output_type": "execute_result"
    }
   ],
   "source": [
    "# Load saved models to predict..\n",
    "\n",
    "from catboost import CatBoost\n",
    "\n",
    "# Specify the path to the saved model file (.cbm)\n",
    "model_path = '/home/stefanos/PasterQuality/src/experiments/revisiting_models/output_pasterquality/tabular_split_0/catboost_/tuned/0/model.cbm'\n",
    "\n",
    "# Load the model\n",
    "model = CatBoost()\n",
    "model.load_model(model_path)\n",
    "\n",
    "model.predict"
   ]
  },
  {
   "cell_type": "code",
   "execution_count": 11,
   "metadata": {},
   "outputs": [],
   "source": [
    "X_val = pd.read_csv('/home/stefanos/PasterQuality/data/tabular/csv/split_4/X_val.csv')"
   ]
  },
  {
   "cell_type": "code",
   "execution_count": 13,
   "metadata": {},
   "outputs": [
    {
     "data": {
      "text/plain": [
       "array([-0.48368619,  0.40493147, -0.50929665,  0.16383725,  0.01339699,\n",
       "       -0.49143002,  0.19062873, -0.29928076, -0.84552098, -0.48428062,\n",
       "        0.11428003,  0.74002523, -0.43544787, -0.13783638, -0.45431024,\n",
       "       -0.75767399, -0.82517107,  0.17569929,  0.50931782,  2.14209751,\n",
       "        0.81958234, -0.67432716, -0.3908223 , -0.32479064,  0.58509513,\n",
       "        0.30134434,  0.22890581,  0.45486736, -0.16679191, -0.19679334,\n",
       "       -0.41122722, -0.83525817, -0.07749114, -0.65180353,  0.74880304,\n",
       "        0.26961998, -0.63231524,  0.12874287, -0.10865291, -0.70970385,\n",
       "       -0.42850699,  1.0462584 ,  0.12111532, -0.63732301,  0.15225681,\n",
       "       -0.4564774 ,  0.71971702, -0.3951463 , -0.66868622,  1.63617785,\n",
       "       -0.44734727,  0.08062978,  0.17586845, -0.51162175,  0.00708958,\n",
       "       -0.06639934, -0.38616619, -0.12838892,  0.22312115,  0.76310415,\n",
       "       -0.44099311,  0.51915656, -0.04149377, -0.76458345, -0.14839463,\n",
       "       -0.45501001])"
      ]
     },
     "execution_count": 13,
     "metadata": {},
     "output_type": "execute_result"
    }
   ],
   "source": [
    "model.predict(X_val)"
   ]
  },
  {
   "cell_type": "code",
   "execution_count": 4,
   "metadata": {},
   "outputs": [
    {
     "data": {
      "text/plain": [
       "<matplotlib.legend.Legend at 0x7f11f4eba130>"
      ]
     },
     "execution_count": 4,
     "metadata": {},
     "output_type": "execute_result"
    },
    {
     "data": {
      "image/png": "[encoded data removed]",
      "text/plain": [
       "<Figure size 640x480 with 1 Axes>"
      ]
     },
     "metadata": {},
     "output_type": "display_data"
    }
   ],
   "source": [
    "y_train = pd.read_csv('/home/stefanos/PasterQuality/data/tabular/csv/split_4/y_train.csv')\n",
    "y_test = pd.read_csv('/home/stefanos/PasterQuality/data/tabular/csv/split_4/y_test.csv')\n",
    "y_val = pd.read_csv('/home/stefanos/PasterQuality/data/tabular/csv/split_4/y_val.csv')\n",
    "\n",
    "#plot histograms and show that the data is not balanced\n",
    "import matplotlib.pyplot as plt\n",
    "plt.hist(y_train['PU'], label='train')\n",
    "plt.hist(y_test['PU'], label='test')\n",
    "plt.hist(y_val['PU'], label='val')\n",
    "plt.legend()"
   ]
  },
  {
   "cell_type": "code",
   "execution_count": 5,
   "metadata": {},
   "outputs": [
    {
     "data": {
      "text/plain": [
       "<matplotlib.legend.Legend at 0x7f11f4bb7220>"
      ]
     },
     "execution_count": 5,
     "metadata": {},
     "output_type": "execute_result"
    },
    {
     "data": {
      "image/png": "[encoded data removed]",
      "text/plain": [
       "<Figure size 640x480 with 1 Axes>"
      ]
     },
     "metadata": {},
     "output_type": "display_data"
    }
   ],
   "source": [
    "y_train = pd.read_csv('/home/stefanos/PasterQuality/data/tabular/csv/split_3/y_train.csv')\n",
    "y_test = pd.read_csv('/home/stefanos/PasterQuality/data/tabular/csv/split_3/y_test.csv')\n",
    "y_val = pd.read_csv('/home/stefanos/PasterQuality/data/tabular/csv/split_3/y_val.csv')\n",
    "\n",
    "#plot histograms and show that the data is not balanced\n",
    "import matplotlib.pyplot as plt\n",
    "plt.hist(y_train['PU'], label='train')\n",
    "plt.hist(y_test['PU'], label='test')\n",
    "plt.hist(y_val['PU'], label='val')\n",
    "plt.legend()"
   ]
  },
  {
   "cell_type": "code",
   "execution_count": 6,
   "metadata": {},
   "outputs": [
    {
     "data": {
      "text/plain": [
       "<matplotlib.legend.Legend at 0x7f11f47c5fa0>"
      ]
     },
     "execution_count": 6,
     "metadata": {},
     "output_type": "execute_result"
    },
    {
     "data": {
      "image/png": "[encoded data removed]",
      "text/plain": [
       "<Figure size 640x480 with 1 Axes>"
      ]
     },
     "metadata": {},
     "output_type": "display_data"
    }
   ],
   "source": [
    "y_train = pd.read_csv('/home/stefanos/PasterQuality/data/tabular/csv/split_2/y_train.csv')\n",
    "y_test = pd.read_csv('/home/stefanos/PasterQuality/data/tabular/csv/split_2/y_test.csv')\n",
    "y_val = pd.read_csv('/home/stefanos/PasterQuality/data/tabular/csv/split_2/y_val.csv')\n",
    "\n",
    "#plot histograms and show that the data is not balanced\n",
    "import matplotlib.pyplot as plt\n",
    "plt.hist(y_train['PU'], label='train')\n",
    "plt.hist(y_test['PU'], label='test')\n",
    "plt.hist(y_val['PU'], label='val')\n",
    "plt.legend()"
   ]
  },
  {
   "cell_type": "code",
   "execution_count": 7,
   "metadata": {},
   "outputs": [
    {
     "data": {
      "text/plain": [
       "<matplotlib.legend.Legend at 0x7f11f476b0a0>"
      ]
     },
     "execution_count": 7,
     "metadata": {},
     "output_type": "execute_result"
    },
    {
     "data": {
      "image/png": "[encoded data removed]",
      "text/plain": [
       "<Figure size 640x480 with 1 Axes>"
      ]
     },
     "metadata": {},
     "output_type": "display_data"
    }
   ],
   "source": [
    "\n",
    "y_train = pd.read_csv('/home/stefanos/PasterQuality/data/tabular/csv/split_1/y_train.csv')\n",
    "y_test = pd.read_csv('/home/stefanos/PasterQuality/data/tabular/csv/split_1/y_test.csv')\n",
    "y_val = pd.read_csv('/home/stefanos/PasterQuality/data/tabular/csv/split_1/y_val.csv')\n",
    "\n",
    "#plot histograms and show that the data is not balanced\n",
    "import matplotlib.pyplot as plt\n",
    "plt.hist(y_train['PU'], label='train')\n",
    "plt.hist(y_test['PU'], label='test')\n",
    "plt.hist(y_val['PU'], label='val')\n",
    "plt.legend()"
   ]
  },
  {
   "cell_type": "code",
   "execution_count": 8,
   "metadata": {},
   "outputs": [
    {
     "data": {
      "text/plain": [
       "<matplotlib.legend.Legend at 0x7f11f437c880>"
      ]
     },
     "execution_count": 8,
     "metadata": {},
     "output_type": "execute_result"
    },
    {
     "data": {
      "image/png": "[encoded data removed]",
      "text/plain": [
       "<Figure size 640x480 with 1 Axes>"
      ]
     },
     "metadata": {},
     "output_type": "display_data"
    }
   ],
   "source": [
    "y_train = pd.read_csv('/home/stefanos/PasterQuality/data/tabular/csv/split_0/y_train.csv')\n",
    "y_test = pd.read_csv('/home/stefanos/PasterQuality/data/tabular/csv/split_0/y_test.csv')\n",
    "y_val = pd.read_csv('/home/stefanos/PasterQuality/data/tabular/csv/split_0/y_val.csv')\n",
    "\n",
    "#plot histograms and show that the data is not balanced\n",
    "import matplotlib.pyplot as plt\n",
    "plt.hist(y_train['PU'], label='train')\n",
    "plt.hist(y_test['PU'], label='test')\n",
    "plt.hist(y_val['PU'], label='val')\n",
    "plt.legend()"
   ]
  }
 ],
 "metadata": {
  "kernelspec": {
   "display_name": "revisiting_models",
   "language": "python",
   "name": "python3"
  },
  "language_info": {
   "codemirror_mode": {
    "name": "ipython",
    "version": 3
   },
   "file_extension": ".py",
   "mimetype": "text/x-python",
   "name": "python",
   "nbconvert_exporter": "python",
   "pygments_lexer": "ipython3",
   "version": "3.8.8"
  },
  "orig_nbformat": 4
 },
 "nbformat": 4,
 "nbformat_minor": 2
}
